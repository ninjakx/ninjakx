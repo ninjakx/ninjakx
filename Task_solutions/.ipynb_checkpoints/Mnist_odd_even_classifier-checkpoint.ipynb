{
 "cells": [
  {
   "cell_type": "code",
   "execution_count": 6,
   "metadata": {
    "id": "kTUDM2ZtnYwk"
   },
   "outputs": [],
   "source": [
    "# import torch\n",
    "# import torchvision\n",
    "# import torchvision.datasets as datasets\n",
    "# from torch.utils.data import DataLoader, Dataset, TensorDataset\n",
    "# import torchvision.transforms as transforms\n",
    "\n",
    "import pandas as pd\n",
    "from pathlib import Path\n",
    "from glob import glob\n",
    "import torch\n",
    "import torch.nn.functional as F\n",
    "from torch import nn, optim\n",
    "import torch.utils.data as data\n",
    "from torch.utils.data.sampler import SubsetRandomSampler\n",
    "from torchvision import transforms, models\n",
    "import matplotlib.pyplot as plt\n",
    "# import albumentations as A\n",
    "# from albumentations.pytorch import ToTensor\n",
    "import numpy as np\n",
    "from sklearn.model_selection import StratifiedKFold\n",
    "%matplotlib inline\n",
    "import matplotlib.pyplot as plt\n",
    "import os\n",
    "\n",
    "import torchvision.transforms as transforms\n",
    "import torchvision.datasets as datasets\n",
    "import torchvision.models as models\n",
    "import shutil\n",
    "from skimage import io, transform\n",
    "\n",
    "\n",
    "from collections import namedtuple\n",
    "from torch.utils.data import DataLoader, Dataset\n",
    "from torch.utils.data.sampler import SubsetRandomSampler\n",
    "\n",
    "from sklearn.metrics import confusion_matrix\n",
    "from sklearn.metrics import ConfusionMatrixDisplay\n",
    "import time\n",
    "\n",
    "import torch.optim.lr_scheduler as lr_scheduler\n",
    "from torch.optim.lr_scheduler import _LRScheduler\n"
   ]
  },
  {
   "cell_type": "markdown",
   "metadata": {
    "id": "Ea870AwQpw-5"
   },
   "source": [
    "Augmentation"
   ]
  },
  {
   "cell_type": "code",
   "execution_count": 7,
   "metadata": {
    "id": "8p-_KsHDodtL"
   },
   "outputs": [],
   "source": [
    "t = transforms.Compose([\n",
    "                       transforms.ToTensor()]\n",
    "                      #  transforms.Normalize(mean=(0), std=(1))]\n",
    "                       )"
   ]
  },
  {
   "cell_type": "code",
   "execution_count": 7,
   "metadata": {
    "id": "Wq_eA99Dputo"
   },
   "outputs": [],
   "source": []
  },
  {
   "cell_type": "code",
   "execution_count": 8,
   "metadata": {
    "id": "I6F5avsOnqoK"
   },
   "outputs": [],
   "source": [
    "tr_data = datasets.MNIST(root='./data', train=True, download=True, transform=t)\n",
    "# te_data = datasets.MNIST(root='./data', train=True, download=True, transform=t)"
   ]
  },
  {
   "cell_type": "code",
   "execution_count": 9,
   "metadata": {
    "id": "sVJv0vgVnxAO"
   },
   "outputs": [],
   "source": [
    "# bs = 64\n",
    "# train_loader = DataLoader( tr_data, \n",
    "#                 batch_size=bs, drop_last=True, shuffle=True)"
   ]
  },
  {
   "cell_type": "code",
   "execution_count": 10,
   "metadata": {
    "colab": {
     "base_uri": "https://localhost:8080/"
    },
    "id": "ZyOI7podp6Uj",
    "outputId": "edaca17f-9a92-4b9f-e90f-f5bd418276d7"
   },
   "outputs": [
    {
     "name": "stdout",
     "output_type": "stream",
     "text": [
      "Calculated means: tensor([0.1307, 0.1307, 0.1307])\n",
      "Calculated stds: tensor([0.3015, 0.3015, 0.3015])\n"
     ]
    }
   ],
   "source": [
    "# train_data = datasets.ImageFolder(root = dir_train, transform = transforms.ToTensor())\n",
    "# Finding out the mean and std so that I can normalize the Image\n",
    "means = torch.zeros(3)\n",
    "stds = torch.zeros(3)\n",
    "\n",
    "for img, label in tr_data:\n",
    "    means += torch.mean(img, dim = (1,2))\n",
    "    stds += torch.std(img, dim = (1,2))\n",
    "\n",
    "means /= len(tr_data)\n",
    "stds /= len(tr_data)\n",
    "    \n",
    "print(f'Calculated means: {means}')\n",
    "print(f'Calculated stds: {stds}')"
   ]
  },
  {
   "cell_type": "code",
   "execution_count": 11,
   "metadata": {
    "id": "_NZn6mcxn2r7"
   },
   "outputs": [],
   "source": [
    "IMG_SIZE = 64\n",
    "\n",
    "train_transforms = transforms.Compose([\n",
    "                          #  transforms.ToPILImage(),\n",
    "                           transforms.Resize(IMG_SIZE),\n",
    "                           transforms.RandomRotation(5),\n",
    "                           transforms.RandomHorizontalFlip(0.5),\n",
    "                           transforms.RandomCrop(IMG_SIZE, padding = 10),\n",
    "                           transforms.ToTensor(),\n",
    "                          transforms.Lambda(lambda x: x.repeat(3, 1, 1) ),\n",
    "                           transforms.Normalize(mean = means, \n",
    "                                                std = stds)\n",
    "                       ])\n",
    "\n",
    "val_transforms = transforms.Compose([\n",
    "                           transforms.Resize(IMG_SIZE),\n",
    "                           transforms.CenterCrop(IMG_SIZE),\n",
    "                           transforms.ToTensor(),\n",
    "                           transforms.Normalize(mean = means, \n",
    "                                                std = stds)\n",
    "                       ])\n",
    "\n",
    "\n",
    "test_transforms = transforms.Compose([\n",
    "                          #  transforms.ToPILImage(),\n",
    "                           transforms.Resize(IMG_SIZE),\n",
    "                           transforms.ToTensor(),\n",
    "                          transforms.Lambda(lambda x: x.repeat(3, 1, 1) ),                     \n",
    "                           transforms.Normalize(mean = means, \n",
    "                                                std = stds)\n",
    "                       ])"
   ]
  },
  {
   "cell_type": "code",
   "execution_count": 12,
   "metadata": {
    "id": "LLGVYfc5qOZX"
   },
   "outputs": [],
   "source": [
    "tr_data = datasets.MNIST(root='./data', train=True, download=True, transform=train_transforms)\n",
    "te_data = datasets.MNIST(root='./data', train=False, download=True, transform=test_transforms)"
   ]
  },
  {
   "cell_type": "code",
   "execution_count": 13,
   "metadata": {
    "id": "n0qRAIdlqOgx"
   },
   "outputs": [],
   "source": [
    "# next(iter(te_data))"
   ]
  },
  {
   "cell_type": "code",
   "execution_count": 14,
   "metadata": {
    "id": "r5JdNSnEqOeX"
   },
   "outputs": [],
   "source": [
    "# spitting the train data into two train and val (80:20 ratio)\n",
    "validation_split = .2\n",
    "shuffle_dataset = True\n",
    "random_seed= 42\n",
    "\n",
    "# Creating data indices for training and validation splits:\n",
    "dataset_size = len(tr_data)\n",
    "indices = list(range(dataset_size))\n",
    "split = int(np.floor(validation_split * dataset_size))\n",
    "if shuffle_dataset :\n",
    "    np.random.seed(random_seed)\n",
    "    np.random.shuffle(indices)\n",
    "train_indices, val_indices = indices[split:], indices[:split]\n",
    "\n",
    "# Creating PT data samplers and loaders:\n",
    "train_sampler = SubsetRandomSampler(train_indices)\n",
    "valid_sampler = SubsetRandomSampler(val_indices)"
   ]
  },
  {
   "cell_type": "code",
   "execution_count": 15,
   "metadata": {
    "id": "OHBwZJkwoXhB"
   },
   "outputs": [],
   "source": [
    "BATCH_SIZE = 64\n",
    "train_loader = data.DataLoader(tr_data, \n",
    "                                 batch_size = BATCH_SIZE, \n",
    "                                 sampler=train_sampler)\n",
    "\n",
    "valid_loader = data.DataLoader(tr_data, \n",
    "                                 batch_size = BATCH_SIZE,\n",
    "                                 sampler=valid_sampler)\n",
    "\n",
    "test_loader = data.DataLoader(te_data, \n",
    "                                batch_size = BATCH_SIZE)"
   ]
  },
  {
   "cell_type": "code",
   "execution_count": 16,
   "metadata": {
    "colab": {
     "base_uri": "https://localhost:8080/"
    },
    "id": "MrnGYH8Es7RZ",
    "outputId": "59547c67-f1f7-4499-f347-3e69a18cf4ca"
   },
   "outputs": [
    {
     "name": "stdout",
     "output_type": "stream",
     "text": [
      "datapoints:\n",
      "train loader: 750\n",
      "val loader: 188\n",
      "test loader: 157\n"
     ]
    }
   ],
   "source": [
    "print(f\"datapoints:\\ntrain loader: {len(train_loader)}\\nval loader: {len(valid_loader)}\\ntest loader: {len(test_loader)}\")"
   ]
  },
  {
   "cell_type": "code",
   "execution_count": 17,
   "metadata": {
    "id": "wXvMjmNJtM91"
   },
   "outputs": [],
   "source": [
    "def normalize_image(image):\n",
    "    image_min = image.min()\n",
    "    image_max = image.max()\n",
    "    image.clamp_(min = image_min, max = image_max)\n",
    "    image.add_(-image_min).div_(image_max - image_min + 1e-5)\n",
    "    return image    "
   ]
  },
  {
   "cell_type": "code",
   "execution_count": 18,
   "metadata": {
    "id": "UhHfgi1ntT6x"
   },
   "outputs": [],
   "source": [
    "def plot_images(images, labels, classes, normalize = True):\n",
    "    n_images = len(images)\n",
    "\n",
    "    rows = int(np.sqrt(n_images))\n",
    "    cols = int(np.sqrt(n_images))\n",
    "\n",
    "    fig = plt.figure(figsize = (15, 15))\n",
    "\n",
    "    for i in range(rows*cols):\n",
    "\n",
    "        ax = fig.add_subplot(rows, cols, i+1)\n",
    "        \n",
    "        image = images[i]\n",
    "\n",
    "        if normalize:\n",
    "            image = normalize_image(image)\n",
    "\n",
    "        ax.imshow(image.permute(1, 2, 0).cpu().numpy(), cmap='gray')\n",
    "        label = classes[int(labels[i])]\n",
    "        ax.set_title(label)\n",
    "        ax.axis('off')"
   ]
  },
  {
   "cell_type": "code",
   "execution_count": 19,
   "metadata": {
    "colab": {
     "base_uri": "https://localhost:8080/",
     "height": 862
    },
    "id": "emz5_GDatVVx",
    "outputId": "692e26b1-f30e-45c3-ef3e-4cb3c3119019"
   },
   "outputs": [
    {
     "data": {
      "image/png": "[encoded data removed]",
      "text/plain": [
       "<Figure size 1080x1080 with 25 Axes>"
      ]
     },
     "metadata": {
      "needs_background": "light",
      "tags": []
     },
     "output_type": "display_data"
    }
   ],
   "source": [
    "N_IMAGES = 25\n",
    "\n",
    "images, labels = zip(*[(image, label) for image, label in \n",
    "                           [tr_data[i] for i in range(N_IMAGES)]])\n",
    "# classes = train_data.classes\n",
    "classes = tr_data.classes\n",
    "\n",
    "plot_images(images, labels, classes)"
   ]
  },
  {
   "cell_type": "code",
   "execution_count": 20,
   "metadata": {
    "colab": {
     "base_uri": "https://localhost:8080/"
    },
    "id": "C35KVSRht1U8",
    "outputId": "5f9e275d-fba5-4d8f-e7bd-5d7cb4d0cc14"
   },
   "outputs": [
    {
     "name": "stdout",
     "output_type": "stream",
     "text": [
      "Requirement already satisfied: pretrainedmodels in /usr/local/lib/python3.7/dist-packages (0.7.4)\n",
      "Requirement already satisfied: tqdm in /usr/local/lib/python3.7/dist-packages (from pretrainedmodels) (4.41.1)\n",
      "Requirement already satisfied: torchvision in /usr/local/lib/python3.7/dist-packages (from pretrainedmodels) (0.9.1+cu101)\n",
      "Requirement already satisfied: torch in /usr/local/lib/python3.7/dist-packages (from pretrainedmodels) (1.8.1+cu101)\n",
      "Requirement already satisfied: munch in /usr/local/lib/python3.7/dist-packages (from pretrainedmodels) (2.5.0)\n",
      "Requirement already satisfied: pillow>=4.1.1 in /usr/local/lib/python3.7/dist-packages (from torchvision->pretrainedmodels) (7.1.2)\n",
      "Requirement already satisfied: numpy in /usr/local/lib/python3.7/dist-packages (from torchvision->pretrainedmodels) (1.19.5)\n",
      "Requirement already satisfied: typing-extensions in /usr/local/lib/python3.7/dist-packages (from torch->pretrainedmodels) (3.7.4.3)\n",
      "Requirement already satisfied: six in /usr/local/lib/python3.7/dist-packages (from munch->pretrainedmodels) (1.15.0)\n"
     ]
    }
   ],
   "source": [
    "!pip install pretrainedmodels"
   ]
  },
  {
   "cell_type": "code",
   "execution_count": 21,
   "metadata": {
    "id": "XglGCzg9tph0"
   },
   "outputs": [],
   "source": [
    "import pretrainedmodels\n",
    "model = pretrainedmodels.resnet34(num_classes=1000, pretrained='imagenet')"
   ]
  },
  {
   "cell_type": "code",
   "execution_count": 22,
   "metadata": {
    "colab": {
     "base_uri": "https://localhost:8080/"
    },
    "id": "N_YqkCJ_uDSb",
    "outputId": "a9187fbd-b9d8-4c2c-af93-802c1975b5aa"
   },
   "outputs": [
    {
     "name": "stdout",
     "output_type": "stream",
     "text": [
      "Requirement already satisfied: torch-summary in /usr/local/lib/python3.7/dist-packages (1.4.5)\n"
     ]
    }
   ],
   "source": [
    "!pip install torch-summary\n"
   ]
  },
  {
   "cell_type": "code",
   "execution_count": 23,
   "metadata": {
    "id": "R_eSjeNIuayK"
   },
   "outputs": [],
   "source": [
    "from torchsummary import summary"
   ]
  },
  {
   "cell_type": "code",
   "execution_count": 24,
   "metadata": {
    "colab": {
     "base_uri": "https://localhost:8080/"
    },
    "id": "tVpxmpSUuP9y",
    "outputId": "062b84e2-5f21-44ea-d3f7-0202d1aa1391"
   },
   "outputs": [
    {
     "name": "stdout",
     "output_type": "stream",
     "text": [
      "==========================================================================================\n",
      "Layer (type:depth-idx)                   Output Shape              Param #\n",
      "==========================================================================================\n",
      "├─Conv2d: 1-1                            [-1, 64, 32, 32]          9,408\n",
      "├─BatchNorm2d: 1-2                       [-1, 64, 32, 32]          128\n",
      "├─ReLU: 1-3                              [-1, 64, 32, 32]          --\n",
      "├─MaxPool2d: 1-4                         [-1, 64, 16, 16]          --\n",
      "├─Sequential: 1-5                        [-1, 64, 16, 16]          --\n",
      "|    └─BasicBlock: 2-1                   [-1, 64, 16, 16]          --\n",
      "|    |    └─Conv2d: 3-1                  [-1, 64, 16, 16]          36,864\n",
      "|    |    └─BatchNorm2d: 3-2             [-1, 64, 16, 16]          128\n",
      "|    |    └─ReLU: 3-3                    [-1, 64, 16, 16]          --\n",
      "|    |    └─Conv2d: 3-4                  [-1, 64, 16, 16]          36,864\n",
      "|    |    └─BatchNorm2d: 3-5             [-1, 64, 16, 16]          128\n",
      "|    |    └─ReLU: 3-6                    [-1, 64, 16, 16]          --\n",
      "|    └─BasicBlock: 2-2                   [-1, 64, 16, 16]          --\n",
      "|    |    └─Conv2d: 3-7                  [-1, 64, 16, 16]          36,864\n",
      "|    |    └─BatchNorm2d: 3-8             [-1, 64, 16, 16]          128\n",
      "|    |    └─ReLU: 3-9                    [-1, 64, 16, 16]          --\n",
      "|    |    └─Conv2d: 3-10                 [-1, 64, 16, 16]          36,864\n",
      "|    |    └─BatchNorm2d: 3-11            [-1, 64, 16, 16]          128\n",
      "|    |    └─ReLU: 3-12                   [-1, 64, 16, 16]          --\n",
      "|    └─BasicBlock: 2-3                   [-1, 64, 16, 16]          --\n",
      "|    |    └─Conv2d: 3-13                 [-1, 64, 16, 16]          36,864\n",
      "|    |    └─BatchNorm2d: 3-14            [-1, 64, 16, 16]          128\n",
      "|    |    └─ReLU: 3-15                   [-1, 64, 16, 16]          --\n",
      "|    |    └─Conv2d: 3-16                 [-1, 64, 16, 16]          36,864\n",
      "|    |    └─BatchNorm2d: 3-17            [-1, 64, 16, 16]          128\n",
      "|    |    └─ReLU: 3-18                   [-1, 64, 16, 16]          --\n",
      "├─Sequential: 1-6                        [-1, 128, 8, 8]           --\n",
      "|    └─BasicBlock: 2-4                   [-1, 128, 8, 8]           --\n",
      "|    |    └─Conv2d: 3-19                 [-1, 128, 8, 8]           73,728\n",
      "|    |    └─BatchNorm2d: 3-20            [-1, 128, 8, 8]           256\n",
      "|    |    └─ReLU: 3-21                   [-1, 128, 8, 8]           --\n",
      "|    |    └─Conv2d: 3-22                 [-1, 128, 8, 8]           147,456\n",
      "|    |    └─BatchNorm2d: 3-23            [-1, 128, 8, 8]           256\n",
      "|    |    └─Sequential: 3-24             [-1, 128, 8, 8]           8,448\n",
      "|    |    └─ReLU: 3-25                   [-1, 128, 8, 8]           --\n",
      "|    └─BasicBlock: 2-5                   [-1, 128, 8, 8]           --\n",
      "|    |    └─Conv2d: 3-26                 [-1, 128, 8, 8]           147,456\n",
      "|    |    └─BatchNorm2d: 3-27            [-1, 128, 8, 8]           256\n",
      "|    |    └─ReLU: 3-28                   [-1, 128, 8, 8]           --\n",
      "|    |    └─Conv2d: 3-29                 [-1, 128, 8, 8]           147,456\n",
      "|    |    └─BatchNorm2d: 3-30            [-1, 128, 8, 8]           256\n",
      "|    |    └─ReLU: 3-31                   [-1, 128, 8, 8]           --\n",
      "|    └─BasicBlock: 2-6                   [-1, 128, 8, 8]           --\n",
      "|    |    └─Conv2d: 3-32                 [-1, 128, 8, 8]           147,456\n",
      "|    |    └─BatchNorm2d: 3-33            [-1, 128, 8, 8]           256\n",
      "|    |    └─ReLU: 3-34                   [-1, 128, 8, 8]           --\n",
      "|    |    └─Conv2d: 3-35                 [-1, 128, 8, 8]           147,456\n",
      "|    |    └─BatchNorm2d: 3-36            [-1, 128, 8, 8]           256\n",
      "|    |    └─ReLU: 3-37                   [-1, 128, 8, 8]           --\n",
      "|    └─BasicBlock: 2-7                   [-1, 128, 8, 8]           --\n",
      "|    |    └─Conv2d: 3-38                 [-1, 128, 8, 8]           147,456\n",
      "|    |    └─BatchNorm2d: 3-39            [-1, 128, 8, 8]           256\n",
      "|    |    └─ReLU: 3-40                   [-1, 128, 8, 8]           --\n",
      "|    |    └─Conv2d: 3-41                 [-1, 128, 8, 8]           147,456\n",
      "|    |    └─BatchNorm2d: 3-42            [-1, 128, 8, 8]           256\n",
      "|    |    └─ReLU: 3-43                   [-1, 128, 8, 8]           --\n",
      "├─Sequential: 1-7                        [-1, 256, 4, 4]           --\n",
      "|    └─BasicBlock: 2-8                   [-1, 256, 4, 4]           --\n",
      "|    |    └─Conv2d: 3-44                 [-1, 256, 4, 4]           294,912\n",
      "|    |    └─BatchNorm2d: 3-45            [-1, 256, 4, 4]           512\n",
      "|    |    └─ReLU: 3-46                   [-1, 256, 4, 4]           --\n",
      "|    |    └─Conv2d: 3-47                 [-1, 256, 4, 4]           589,824\n",
      "|    |    └─BatchNorm2d: 3-48            [-1, 256, 4, 4]           512\n",
      "|    |    └─Sequential: 3-49             [-1, 256, 4, 4]           33,280\n",
      "|    |    └─ReLU: 3-50                   [-1, 256, 4, 4]           --\n",
      "|    └─BasicBlock: 2-9                   [-1, 256, 4, 4]           --\n",
      "|    |    └─Conv2d: 3-51                 [-1, 256, 4, 4]           589,824\n",
      "|    |    └─BatchNorm2d: 3-52            [-1, 256, 4, 4]           512\n",
      "|    |    └─ReLU: 3-53                   [-1, 256, 4, 4]           --\n",
      "|    |    └─Conv2d: 3-54                 [-1, 256, 4, 4]           589,824\n",
      "|    |    └─BatchNorm2d: 3-55            [-1, 256, 4, 4]           512\n",
      "|    |    └─ReLU: 3-56                   [-1, 256, 4, 4]           --\n",
      "|    └─BasicBlock: 2-10                  [-1, 256, 4, 4]           --\n",
      "|    |    └─Conv2d: 3-57                 [-1, 256, 4, 4]           589,824\n",
      "|    |    └─BatchNorm2d: 3-58            [-1, 256, 4, 4]           512\n",
      "|    |    └─ReLU: 3-59                   [-1, 256, 4, 4]           --\n",
      "|    |    └─Conv2d: 3-60                 [-1, 256, 4, 4]           589,824\n",
      "|    |    └─BatchNorm2d: 3-61            [-1, 256, 4, 4]           512\n",
      "|    |    └─ReLU: 3-62                   [-1, 256, 4, 4]           --\n",
      "|    └─BasicBlock: 2-11                  [-1, 256, 4, 4]           --\n",
      "|    |    └─Conv2d: 3-63                 [-1, 256, 4, 4]           589,824\n",
      "|    |    └─BatchNorm2d: 3-64            [-1, 256, 4, 4]           512\n",
      "|    |    └─ReLU: 3-65                   [-1, 256, 4, 4]           --\n",
      "|    |    └─Conv2d: 3-66                 [-1, 256, 4, 4]           589,824\n",
      "|    |    └─BatchNorm2d: 3-67            [-1, 256, 4, 4]           512\n",
      "|    |    └─ReLU: 3-68                   [-1, 256, 4, 4]           --\n",
      "|    └─BasicBlock: 2-12                  [-1, 256, 4, 4]           --\n",
      "|    |    └─Conv2d: 3-69                 [-1, 256, 4, 4]           589,824\n",
      "|    |    └─BatchNorm2d: 3-70            [-1, 256, 4, 4]           512\n",
      "|    |    └─ReLU: 3-71                   [-1, 256, 4, 4]           --\n",
      "|    |    └─Conv2d: 3-72                 [-1, 256, 4, 4]           589,824\n",
      "|    |    └─BatchNorm2d: 3-73            [-1, 256, 4, 4]           512\n",
      "|    |    └─ReLU: 3-74                   [-1, 256, 4, 4]           --\n",
      "|    └─BasicBlock: 2-13                  [-1, 256, 4, 4]           --\n",
      "|    |    └─Conv2d: 3-75                 [-1, 256, 4, 4]           589,824\n",
      "|    |    └─BatchNorm2d: 3-76            [-1, 256, 4, 4]           512\n",
      "|    |    └─ReLU: 3-77                   [-1, 256, 4, 4]           --\n",
      "|    |    └─Conv2d: 3-78                 [-1, 256, 4, 4]           589,824\n",
      "|    |    └─BatchNorm2d: 3-79            [-1, 256, 4, 4]           512\n",
      "|    |    └─ReLU: 3-80                   [-1, 256, 4, 4]           --\n",
      "├─Sequential: 1-8                        [-1, 512, 2, 2]           --\n",
      "|    └─BasicBlock: 2-14                  [-1, 512, 2, 2]           --\n",
      "|    |    └─Conv2d: 3-81                 [-1, 512, 2, 2]           1,179,648\n",
      "|    |    └─BatchNorm2d: 3-82            [-1, 512, 2, 2]           1,024\n",
      "|    |    └─ReLU: 3-83                   [-1, 512, 2, 2]           --\n",
      "|    |    └─Conv2d: 3-84                 [-1, 512, 2, 2]           2,359,296\n",
      "|    |    └─BatchNorm2d: 3-85            [-1, 512, 2, 2]           1,024\n",
      "|    |    └─Sequential: 3-86             [-1, 512, 2, 2]           132,096\n",
      "|    |    └─ReLU: 3-87                   [-1, 512, 2, 2]           --\n",
      "|    └─BasicBlock: 2-15                  [-1, 512, 2, 2]           --\n",
      "|    |    └─Conv2d: 3-88                 [-1, 512, 2, 2]           2,359,296\n",
      "|    |    └─BatchNorm2d: 3-89            [-1, 512, 2, 2]           1,024\n",
      "|    |    └─ReLU: 3-90                   [-1, 512, 2, 2]           --\n",
      "|    |    └─Conv2d: 3-91                 [-1, 512, 2, 2]           2,359,296\n",
      "|    |    └─BatchNorm2d: 3-92            [-1, 512, 2, 2]           1,024\n",
      "|    |    └─ReLU: 3-93                   [-1, 512, 2, 2]           --\n",
      "|    └─BasicBlock: 2-16                  [-1, 512, 2, 2]           --\n",
      "|    |    └─Conv2d: 3-94                 [-1, 512, 2, 2]           2,359,296\n",
      "|    |    └─BatchNorm2d: 3-95            [-1, 512, 2, 2]           1,024\n",
      "|    |    └─ReLU: 3-96                   [-1, 512, 2, 2]           --\n",
      "|    |    └─Conv2d: 3-97                 [-1, 512, 2, 2]           2,359,296\n",
      "|    |    └─BatchNorm2d: 3-98            [-1, 512, 2, 2]           1,024\n",
      "|    |    └─ReLU: 3-99                   [-1, 512, 2, 2]           --\n",
      "├─AdaptiveAvgPool2d: 1-9                 [-1, 512, 1, 1]           --\n",
      "├─Linear: 1-10                           [-1, 1000]                513,000\n",
      "==========================================================================================\n",
      "Total params: 21,797,672\n",
      "Trainable params: 21,797,672\n",
      "Non-trainable params: 0\n",
      "Total mult-adds (M): 342.27\n",
      "==========================================================================================\n",
      "Input size (MB): 0.05\n",
      "Forward/backward pass size (MB): 4.66\n",
      "Params size (MB): 83.15\n",
      "Estimated Total Size (MB): 87.86\n",
      "==========================================================================================\n"
     ]
    },
    {
     "data": {
      "text/plain": [
       "==========================================================================================\n",
       "Layer (type:depth-idx)                   Output Shape              Param #\n",
       "==========================================================================================\n",
       "├─Conv2d: 1-1                            [-1, 64, 32, 32]          9,408\n",
       "├─BatchNorm2d: 1-2                       [-1, 64, 32, 32]          128\n",
       "├─ReLU: 1-3                              [-1, 64, 32, 32]          --\n",
       "├─MaxPool2d: 1-4                         [-1, 64, 16, 16]          --\n",
       "├─Sequential: 1-5                        [-1, 64, 16, 16]          --\n",
       "|    └─BasicBlock: 2-1                   [-1, 64, 16, 16]          --\n",
       "|    |    └─Conv2d: 3-1                  [-1, 64, 16, 16]          36,864\n",
       "|    |    └─BatchNorm2d: 3-2             [-1, 64, 16, 16]          128\n",
       "|    |    └─ReLU: 3-3                    [-1, 64, 16, 16]          --\n",
       "|    |    └─Conv2d: 3-4                  [-1, 64, 16, 16]          36,864\n",
       "|    |    └─BatchNorm2d: 3-5             [-1, 64, 16, 16]          128\n",
       "|    |    └─ReLU: 3-6                    [-1, 64, 16, 16]          --\n",
       "|    └─BasicBlock: 2-2                   [-1, 64, 16, 16]          --\n",
       "|    |    └─Conv2d: 3-7                  [-1, 64, 16, 16]          36,864\n",
       "|    |    └─BatchNorm2d: 3-8             [-1, 64, 16, 16]          128\n",
       "|    |    └─ReLU: 3-9                    [-1, 64, 16, 16]          --\n",
       "|    |    └─Conv2d: 3-10                 [-1, 64, 16, 16]          36,864\n",
       "|    |    └─BatchNorm2d: 3-11            [-1, 64, 16, 16]          128\n",
       "|    |    └─ReLU: 3-12                   [-1, 64, 16, 16]          --\n",
       "|    └─BasicBlock: 2-3                   [-1, 64, 16, 16]          --\n",
       "|    |    └─Conv2d: 3-13                 [-1, 64, 16, 16]          36,864\n",
       "|    |    └─BatchNorm2d: 3-14            [-1, 64, 16, 16]          128\n",
       "|    |    └─ReLU: 3-15                   [-1, 64, 16, 16]          --\n",
       "|    |    └─Conv2d: 3-16                 [-1, 64, 16, 16]          36,864\n",
       "|    |    └─BatchNorm2d: 3-17            [-1, 64, 16, 16]          128\n",
       "|    |    └─ReLU: 3-18                   [-1, 64, 16, 16]          --\n",
       "├─Sequential: 1-6                        [-1, 128, 8, 8]           --\n",
       "|    └─BasicBlock: 2-4                   [-1, 128, 8, 8]           --\n",
       "|    |    └─Conv2d: 3-19                 [-1, 128, 8, 8]           73,728\n",
       "|    |    └─BatchNorm2d: 3-20            [-1, 128, 8, 8]           256\n",
       "|    |    └─ReLU: 3-21                   [-1, 128, 8, 8]           --\n",
       "|    |    └─Conv2d: 3-22                 [-1, 128, 8, 8]           147,456\n",
       "|    |    └─BatchNorm2d: 3-23            [-1, 128, 8, 8]           256\n",
       "|    |    └─Sequential: 3-24             [-1, 128, 8, 8]           8,448\n",
       "|    |    └─ReLU: 3-25                   [-1, 128, 8, 8]           --\n",
       "|    └─BasicBlock: 2-5                   [-1, 128, 8, 8]           --\n",
       "|    |    └─Conv2d: 3-26                 [-1, 128, 8, 8]           147,456\n",
       "|    |    └─BatchNorm2d: 3-27            [-1, 128, 8, 8]           256\n",
       "|    |    └─ReLU: 3-28                   [-1, 128, 8, 8]           --\n",
       "|    |    └─Conv2d: 3-29                 [-1, 128, 8, 8]           147,456\n",
       "|    |    └─BatchNorm2d: 3-30            [-1, 128, 8, 8]           256\n",
       "|    |    └─ReLU: 3-31                   [-1, 128, 8, 8]           --\n",
       "|    └─BasicBlock: 2-6                   [-1, 128, 8, 8]           --\n",
       "|    |    └─Conv2d: 3-32                 [-1, 128, 8, 8]           147,456\n",
       "|    |    └─BatchNorm2d: 3-33            [-1, 128, 8, 8]           256\n",
       "|    |    └─ReLU: 3-34                   [-1, 128, 8, 8]           --\n",
       "|    |    └─Conv2d: 3-35                 [-1, 128, 8, 8]           147,456\n",
       "|    |    └─BatchNorm2d: 3-36            [-1, 128, 8, 8]           256\n",
       "|    |    └─ReLU: 3-37                   [-1, 128, 8, 8]           --\n",
       "|    └─BasicBlock: 2-7                   [-1, 128, 8, 8]           --\n",
       "|    |    └─Conv2d: 3-38                 [-1, 128, 8, 8]           147,456\n",
       "|    |    └─BatchNorm2d: 3-39            [-1, 128, 8, 8]           256\n",
       "|    |    └─ReLU: 3-40                   [-1, 128, 8, 8]           --\n",
       "|    |    └─Conv2d: 3-41                 [-1, 128, 8, 8]           147,456\n",
       "|    |    └─BatchNorm2d: 3-42            [-1, 128, 8, 8]           256\n",
       "|    |    └─ReLU: 3-43                   [-1, 128, 8, 8]           --\n",
       "├─Sequential: 1-7                        [-1, 256, 4, 4]           --\n",
       "|    └─BasicBlock: 2-8                   [-1, 256, 4, 4]           --\n",
       "|    |    └─Conv2d: 3-44                 [-1, 256, 4, 4]           294,912\n",
       "|    |    └─BatchNorm2d: 3-45            [-1, 256, 4, 4]           512\n",
       "|    |    └─ReLU: 3-46                   [-1, 256, 4, 4]           --\n",
       "|    |    └─Conv2d: 3-47                 [-1, 256, 4, 4]           589,824\n",
       "|    |    └─BatchNorm2d: 3-48            [-1, 256, 4, 4]           512\n",
       "|    |    └─Sequential: 3-49             [-1, 256, 4, 4]           33,280\n",
       "|    |    └─ReLU: 3-50                   [-1, 256, 4, 4]           --\n",
       "|    └─BasicBlock: 2-9                   [-1, 256, 4, 4]           --\n",
       "|    |    └─Conv2d: 3-51                 [-1, 256, 4, 4]           589,824\n",
       "|    |    └─BatchNorm2d: 3-52            [-1, 256, 4, 4]           512\n",
       "|    |    └─ReLU: 3-53                   [-1, 256, 4, 4]           --\n",
       "|    |    └─Conv2d: 3-54                 [-1, 256, 4, 4]           589,824\n",
       "|    |    └─BatchNorm2d: 3-55            [-1, 256, 4, 4]           512\n",
       "|    |    └─ReLU: 3-56                   [-1, 256, 4, 4]           --\n",
       "|    └─BasicBlock: 2-10                  [-1, 256, 4, 4]           --\n",
       "|    |    └─Conv2d: 3-57                 [-1, 256, 4, 4]           589,824\n",
       "|    |    └─BatchNorm2d: 3-58            [-1, 256, 4, 4]           512\n",
       "|    |    └─ReLU: 3-59                   [-1, 256, 4, 4]           --\n",
       "|    |    └─Conv2d: 3-60                 [-1, 256, 4, 4]           589,824\n",
       "|    |    └─BatchNorm2d: 3-61            [-1, 256, 4, 4]           512\n",
       "|    |    └─ReLU: 3-62                   [-1, 256, 4, 4]           --\n",
       "|    └─BasicBlock: 2-11                  [-1, 256, 4, 4]           --\n",
       "|    |    └─Conv2d: 3-63                 [-1, 256, 4, 4]           589,824\n",
       "|    |    └─BatchNorm2d: 3-64            [-1, 256, 4, 4]           512\n",
       "|    |    └─ReLU: 3-65                   [-1, 256, 4, 4]           --\n",
       "|    |    └─Conv2d: 3-66                 [-1, 256, 4, 4]           589,824\n",
       "|    |    └─BatchNorm2d: 3-67            [-1, 256, 4, 4]           512\n",
       "|    |    └─ReLU: 3-68                   [-1, 256, 4, 4]           --\n",
       "|    └─BasicBlock: 2-12                  [-1, 256, 4, 4]           --\n",
       "|    |    └─Conv2d: 3-69                 [-1, 256, 4, 4]           589,824\n",
       "|    |    └─BatchNorm2d: 3-70            [-1, 256, 4, 4]           512\n",
       "|    |    └─ReLU: 3-71                   [-1, 256, 4, 4]           --\n",
       "|    |    └─Conv2d: 3-72                 [-1, 256, 4, 4]           589,824\n",
       "|    |    └─BatchNorm2d: 3-73            [-1, 256, 4, 4]           512\n",
       "|    |    └─ReLU: 3-74                   [-1, 256, 4, 4]           --\n",
       "|    └─BasicBlock: 2-13                  [-1, 256, 4, 4]           --\n",
       "|    |    └─Conv2d: 3-75                 [-1, 256, 4, 4]           589,824\n",
       "|    |    └─BatchNorm2d: 3-76            [-1, 256, 4, 4]           512\n",
       "|    |    └─ReLU: 3-77                   [-1, 256, 4, 4]           --\n",
       "|    |    └─Conv2d: 3-78                 [-1, 256, 4, 4]           589,824\n",
       "|    |    └─BatchNorm2d: 3-79            [-1, 256, 4, 4]           512\n",
       "|    |    └─ReLU: 3-80                   [-1, 256, 4, 4]           --\n",
       "├─Sequential: 1-8                        [-1, 512, 2, 2]           --\n",
       "|    └─BasicBlock: 2-14                  [-1, 512, 2, 2]           --\n",
       "|    |    └─Conv2d: 3-81                 [-1, 512, 2, 2]           1,179,648\n",
       "|    |    └─BatchNorm2d: 3-82            [-1, 512, 2, 2]           1,024\n",
       "|    |    └─ReLU: 3-83                   [-1, 512, 2, 2]           --\n",
       "|    |    └─Conv2d: 3-84                 [-1, 512, 2, 2]           2,359,296\n",
       "|    |    └─BatchNorm2d: 3-85            [-1, 512, 2, 2]           1,024\n",
       "|    |    └─Sequential: 3-86             [-1, 512, 2, 2]           132,096\n",
       "|    |    └─ReLU: 3-87                   [-1, 512, 2, 2]           --\n",
       "|    └─BasicBlock: 2-15                  [-1, 512, 2, 2]           --\n",
       "|    |    └─Conv2d: 3-88                 [-1, 512, 2, 2]           2,359,296\n",
       "|    |    └─BatchNorm2d: 3-89            [-1, 512, 2, 2]           1,024\n",
       "|    |    └─ReLU: 3-90                   [-1, 512, 2, 2]           --\n",
       "|    |    └─Conv2d: 3-91                 [-1, 512, 2, 2]           2,359,296\n",
       "|    |    └─BatchNorm2d: 3-92            [-1, 512, 2, 2]           1,024\n",
       "|    |    └─ReLU: 3-93                   [-1, 512, 2, 2]           --\n",
       "|    └─BasicBlock: 2-16                  [-1, 512, 2, 2]           --\n",
       "|    |    └─Conv2d: 3-94                 [-1, 512, 2, 2]           2,359,296\n",
       "|    |    └─BatchNorm2d: 3-95            [-1, 512, 2, 2]           1,024\n",
       "|    |    └─ReLU: 3-96                   [-1, 512, 2, 2]           --\n",
       "|    |    └─Conv2d: 3-97                 [-1, 512, 2, 2]           2,359,296\n",
       "|    |    └─BatchNorm2d: 3-98            [-1, 512, 2, 2]           1,024\n",
       "|    |    └─ReLU: 3-99                   [-1, 512, 2, 2]           --\n",
       "├─AdaptiveAvgPool2d: 1-9                 [-1, 512, 1, 1]           --\n",
       "├─Linear: 1-10                           [-1, 1000]                513,000\n",
       "==========================================================================================\n",
       "Total params: 21,797,672\n",
       "Trainable params: 21,797,672\n",
       "Non-trainable params: 0\n",
       "Total mult-adds (M): 342.27\n",
       "==========================================================================================\n",
       "Input size (MB): 0.05\n",
       "Forward/backward pass size (MB): 4.66\n",
       "Params size (MB): 83.15\n",
       "Estimated Total Size (MB): 87.86\n",
       "=========================================================================================="
      ]
     },
     "execution_count": 24,
     "metadata": {
      "tags": []
     },
     "output_type": "execute_result"
    }
   ],
   "source": [
    "summary(model, (3,64,64))"
   ]
  },
  {
   "cell_type": "code",
   "execution_count": 25,
   "metadata": {
    "colab": {
     "base_uri": "https://localhost:8080/"
    },
    "id": "z73KRTJvv8G6",
    "outputId": "119e1425-e3bd-4704-d816-c35b4d2c7589"
   },
   "outputs": [
    {
     "data": {
      "text/plain": [
       "512"
      ]
     },
     "execution_count": 25,
     "metadata": {
      "tags": []
     },
     "output_type": "execute_result"
    }
   ],
   "source": [
    "model.last_linear.in_features"
   ]
  },
  {
   "cell_type": "code",
   "execution_count": 26,
   "metadata": {
    "id": "9tshM2EHuVqN"
   },
   "outputs": [],
   "source": [
    "# fine tuning\n",
    "dim_feats = model.last_linear.in_features # =512\n",
    "nb_classes = 2\n",
    "model.last_linear = nn.Linear(dim_feats, nb_classes)"
   ]
  },
  {
   "cell_type": "code",
   "execution_count": 27,
   "metadata": {
    "colab": {
     "base_uri": "https://localhost:8080/"
    },
    "id": "vc9N7PVZu1qK",
    "outputId": "676698a3-402b-45d3-f5e1-15ef94dc3386"
   },
   "outputs": [
    {
     "name": "stdout",
     "output_type": "stream",
     "text": [
      "==========================================================================================\n",
      "Layer (type:depth-idx)                   Output Shape              Param #\n",
      "==========================================================================================\n",
      "├─Conv2d: 1-1                            [-1, 64, 32, 32]          9,408\n",
      "├─BatchNorm2d: 1-2                       [-1, 64, 32, 32]          128\n",
      "├─ReLU: 1-3                              [-1, 64, 32, 32]          --\n",
      "├─MaxPool2d: 1-4                         [-1, 64, 16, 16]          --\n",
      "├─Sequential: 1-5                        [-1, 64, 16, 16]          --\n",
      "|    └─BasicBlock: 2-1                   [-1, 64, 16, 16]          --\n",
      "|    |    └─Conv2d: 3-1                  [-1, 64, 16, 16]          36,864\n",
      "|    |    └─BatchNorm2d: 3-2             [-1, 64, 16, 16]          128\n",
      "|    |    └─ReLU: 3-3                    [-1, 64, 16, 16]          --\n",
      "|    |    └─Conv2d: 3-4                  [-1, 64, 16, 16]          36,864\n",
      "|    |    └─BatchNorm2d: 3-5             [-1, 64, 16, 16]          128\n",
      "|    |    └─ReLU: 3-6                    [-1, 64, 16, 16]          --\n",
      "|    └─BasicBlock: 2-2                   [-1, 64, 16, 16]          --\n",
      "|    |    └─Conv2d: 3-7                  [-1, 64, 16, 16]          36,864\n",
      "|    |    └─BatchNorm2d: 3-8             [-1, 64, 16, 16]          128\n",
      "|    |    └─ReLU: 3-9                    [-1, 64, 16, 16]          --\n",
      "|    |    └─Conv2d: 3-10                 [-1, 64, 16, 16]          36,864\n",
      "|    |    └─BatchNorm2d: 3-11            [-1, 64, 16, 16]          128\n",
      "|    |    └─ReLU: 3-12                   [-1, 64, 16, 16]          --\n",
      "|    └─BasicBlock: 2-3                   [-1, 64, 16, 16]          --\n",
      "|    |    └─Conv2d: 3-13                 [-1, 64, 16, 16]          36,864\n",
      "|    |    └─BatchNorm2d: 3-14            [-1, 64, 16, 16]          128\n",
      "|    |    └─ReLU: 3-15                   [-1, 64, 16, 16]          --\n",
      "|    |    └─Conv2d: 3-16                 [-1, 64, 16, 16]          36,864\n",
      "|    |    └─BatchNorm2d: 3-17            [-1, 64, 16, 16]          128\n",
      "|    |    └─ReLU: 3-18                   [-1, 64, 16, 16]          --\n",
      "├─Sequential: 1-6                        [-1, 128, 8, 8]           --\n",
      "|    └─BasicBlock: 2-4                   [-1, 128, 8, 8]           --\n",
      "|    |    └─Conv2d: 3-19                 [-1, 128, 8, 8]           73,728\n",
      "|    |    └─BatchNorm2d: 3-20            [-1, 128, 8, 8]           256\n",
      "|    |    └─ReLU: 3-21                   [-1, 128, 8, 8]           --\n",
      "|    |    └─Conv2d: 3-22                 [-1, 128, 8, 8]           147,456\n",
      "|    |    └─BatchNorm2d: 3-23            [-1, 128, 8, 8]           256\n",
      "|    |    └─Sequential: 3-24             [-1, 128, 8, 8]           8,448\n",
      "|    |    └─ReLU: 3-25                   [-1, 128, 8, 8]           --\n",
      "|    └─BasicBlock: 2-5                   [-1, 128, 8, 8]           --\n",
      "|    |    └─Conv2d: 3-26                 [-1, 128, 8, 8]           147,456\n",
      "|    |    └─BatchNorm2d: 3-27            [-1, 128, 8, 8]           256\n",
      "|    |    └─ReLU: 3-28                   [-1, 128, 8, 8]           --\n",
      "|    |    └─Conv2d: 3-29                 [-1, 128, 8, 8]           147,456\n",
      "|    |    └─BatchNorm2d: 3-30            [-1, 128, 8, 8]           256\n",
      "|    |    └─ReLU: 3-31                   [-1, 128, 8, 8]           --\n",
      "|    └─BasicBlock: 2-6                   [-1, 128, 8, 8]           --\n",
      "|    |    └─Conv2d: 3-32                 [-1, 128, 8, 8]           147,456\n",
      "|    |    └─BatchNorm2d: 3-33            [-1, 128, 8, 8]           256\n",
      "|    |    └─ReLU: 3-34                   [-1, 128, 8, 8]           --\n",
      "|    |    └─Conv2d: 3-35                 [-1, 128, 8, 8]           147,456\n",
      "|    |    └─BatchNorm2d: 3-36            [-1, 128, 8, 8]           256\n",
      "|    |    └─ReLU: 3-37                   [-1, 128, 8, 8]           --\n",
      "|    └─BasicBlock: 2-7                   [-1, 128, 8, 8]           --\n",
      "|    |    └─Conv2d: 3-38                 [-1, 128, 8, 8]           147,456\n",
      "|    |    └─BatchNorm2d: 3-39            [-1, 128, 8, 8]           256\n",
      "|    |    └─ReLU: 3-40                   [-1, 128, 8, 8]           --\n",
      "|    |    └─Conv2d: 3-41                 [-1, 128, 8, 8]           147,456\n",
      "|    |    └─BatchNorm2d: 3-42            [-1, 128, 8, 8]           256\n",
      "|    |    └─ReLU: 3-43                   [-1, 128, 8, 8]           --\n",
      "├─Sequential: 1-7                        [-1, 256, 4, 4]           --\n",
      "|    └─BasicBlock: 2-8                   [-1, 256, 4, 4]           --\n",
      "|    |    └─Conv2d: 3-44                 [-1, 256, 4, 4]           294,912\n",
      "|    |    └─BatchNorm2d: 3-45            [-1, 256, 4, 4]           512\n",
      "|    |    └─ReLU: 3-46                   [-1, 256, 4, 4]           --\n",
      "|    |    └─Conv2d: 3-47                 [-1, 256, 4, 4]           589,824\n",
      "|    |    └─BatchNorm2d: 3-48            [-1, 256, 4, 4]           512\n",
      "|    |    └─Sequential: 3-49             [-1, 256, 4, 4]           33,280\n",
      "|    |    └─ReLU: 3-50                   [-1, 256, 4, 4]           --\n",
      "|    └─BasicBlock: 2-9                   [-1, 256, 4, 4]           --\n",
      "|    |    └─Conv2d: 3-51                 [-1, 256, 4, 4]           589,824\n",
      "|    |    └─BatchNorm2d: 3-52            [-1, 256, 4, 4]           512\n",
      "|    |    └─ReLU: 3-53                   [-1, 256, 4, 4]           --\n",
      "|    |    └─Conv2d: 3-54                 [-1, 256, 4, 4]           589,824\n",
      "|    |    └─BatchNorm2d: 3-55            [-1, 256, 4, 4]           512\n",
      "|    |    └─ReLU: 3-56                   [-1, 256, 4, 4]           --\n",
      "|    └─BasicBlock: 2-10                  [-1, 256, 4, 4]           --\n",
      "|    |    └─Conv2d: 3-57                 [-1, 256, 4, 4]           589,824\n",
      "|    |    └─BatchNorm2d: 3-58            [-1, 256, 4, 4]           512\n",
      "|    |    └─ReLU: 3-59                   [-1, 256, 4, 4]           --\n",
      "|    |    └─Conv2d: 3-60                 [-1, 256, 4, 4]           589,824\n",
      "|    |    └─BatchNorm2d: 3-61            [-1, 256, 4, 4]           512\n",
      "|    |    └─ReLU: 3-62                   [-1, 256, 4, 4]           --\n",
      "|    └─BasicBlock: 2-11                  [-1, 256, 4, 4]           --\n",
      "|    |    └─Conv2d: 3-63                 [-1, 256, 4, 4]           589,824\n",
      "|    |    └─BatchNorm2d: 3-64            [-1, 256, 4, 4]           512\n",
      "|    |    └─ReLU: 3-65                   [-1, 256, 4, 4]           --\n",
      "|    |    └─Conv2d: 3-66                 [-1, 256, 4, 4]           589,824\n",
      "|    |    └─BatchNorm2d: 3-67            [-1, 256, 4, 4]           512\n",
      "|    |    └─ReLU: 3-68                   [-1, 256, 4, 4]           --\n",
      "|    └─BasicBlock: 2-12                  [-1, 256, 4, 4]           --\n",
      "|    |    └─Conv2d: 3-69                 [-1, 256, 4, 4]           589,824\n",
      "|    |    └─BatchNorm2d: 3-70            [-1, 256, 4, 4]           512\n",
      "|    |    └─ReLU: 3-71                   [-1, 256, 4, 4]           --\n",
      "|    |    └─Conv2d: 3-72                 [-1, 256, 4, 4]           589,824\n",
      "|    |    └─BatchNorm2d: 3-73            [-1, 256, 4, 4]           512\n",
      "|    |    └─ReLU: 3-74                   [-1, 256, 4, 4]           --\n",
      "|    └─BasicBlock: 2-13                  [-1, 256, 4, 4]           --\n",
      "|    |    └─Conv2d: 3-75                 [-1, 256, 4, 4]           589,824\n",
      "|    |    └─BatchNorm2d: 3-76            [-1, 256, 4, 4]           512\n",
      "|    |    └─ReLU: 3-77                   [-1, 256, 4, 4]           --\n",
      "|    |    └─Conv2d: 3-78                 [-1, 256, 4, 4]           589,824\n",
      "|    |    └─BatchNorm2d: 3-79            [-1, 256, 4, 4]           512\n",
      "|    |    └─ReLU: 3-80                   [-1, 256, 4, 4]           --\n",
      "├─Sequential: 1-8                        [-1, 512, 2, 2]           --\n",
      "|    └─BasicBlock: 2-14                  [-1, 512, 2, 2]           --\n",
      "|    |    └─Conv2d: 3-81                 [-1, 512, 2, 2]           1,179,648\n",
      "|    |    └─BatchNorm2d: 3-82            [-1, 512, 2, 2]           1,024\n",
      "|    |    └─ReLU: 3-83                   [-1, 512, 2, 2]           --\n",
      "|    |    └─Conv2d: 3-84                 [-1, 512, 2, 2]           2,359,296\n",
      "|    |    └─BatchNorm2d: 3-85            [-1, 512, 2, 2]           1,024\n",
      "|    |    └─Sequential: 3-86             [-1, 512, 2, 2]           132,096\n",
      "|    |    └─ReLU: 3-87                   [-1, 512, 2, 2]           --\n",
      "|    └─BasicBlock: 2-15                  [-1, 512, 2, 2]           --\n",
      "|    |    └─Conv2d: 3-88                 [-1, 512, 2, 2]           2,359,296\n",
      "|    |    └─BatchNorm2d: 3-89            [-1, 512, 2, 2]           1,024\n",
      "|    |    └─ReLU: 3-90                   [-1, 512, 2, 2]           --\n",
      "|    |    └─Conv2d: 3-91                 [-1, 512, 2, 2]           2,359,296\n",
      "|    |    └─BatchNorm2d: 3-92            [-1, 512, 2, 2]           1,024\n",
      "|    |    └─ReLU: 3-93                   [-1, 512, 2, 2]           --\n",
      "|    └─BasicBlock: 2-16                  [-1, 512, 2, 2]           --\n",
      "|    |    └─Conv2d: 3-94                 [-1, 512, 2, 2]           2,359,296\n",
      "|    |    └─BatchNorm2d: 3-95            [-1, 512, 2, 2]           1,024\n",
      "|    |    └─ReLU: 3-96                   [-1, 512, 2, 2]           --\n",
      "|    |    └─Conv2d: 3-97                 [-1, 512, 2, 2]           2,359,296\n",
      "|    |    └─BatchNorm2d: 3-98            [-1, 512, 2, 2]           1,024\n",
      "|    |    └─ReLU: 3-99                   [-1, 512, 2, 2]           --\n",
      "├─AdaptiveAvgPool2d: 1-9                 [-1, 512, 1, 1]           --\n",
      "├─Linear: 1-10                           [-1, 2]                   1,026\n",
      "==========================================================================================\n",
      "Total params: 21,285,698\n",
      "Trainable params: 21,285,698\n",
      "Non-trainable params: 0\n",
      "Total mult-adds (M): 341.76\n",
      "==========================================================================================\n",
      "Input size (MB): 0.05\n",
      "Forward/backward pass size (MB): 4.66\n",
      "Params size (MB): 81.20\n",
      "Estimated Total Size (MB): 85.90\n",
      "==========================================================================================\n"
     ]
    },
    {
     "data": {
      "text/plain": [
       "==========================================================================================\n",
       "Layer (type:depth-idx)                   Output Shape              Param #\n",
       "==========================================================================================\n",
       "├─Conv2d: 1-1                            [-1, 64, 32, 32]          9,408\n",
       "├─BatchNorm2d: 1-2                       [-1, 64, 32, 32]          128\n",
       "├─ReLU: 1-3                              [-1, 64, 32, 32]          --\n",
       "├─MaxPool2d: 1-4                         [-1, 64, 16, 16]          --\n",
       "├─Sequential: 1-5                        [-1, 64, 16, 16]          --\n",
       "|    └─BasicBlock: 2-1                   [-1, 64, 16, 16]          --\n",
       "|    |    └─Conv2d: 3-1                  [-1, 64, 16, 16]          36,864\n",
       "|    |    └─BatchNorm2d: 3-2             [-1, 64, 16, 16]          128\n",
       "|    |    └─ReLU: 3-3                    [-1, 64, 16, 16]          --\n",
       "|    |    └─Conv2d: 3-4                  [-1, 64, 16, 16]          36,864\n",
       "|    |    └─BatchNorm2d: 3-5             [-1, 64, 16, 16]          128\n",
       "|    |    └─ReLU: 3-6                    [-1, 64, 16, 16]          --\n",
       "|    └─BasicBlock: 2-2                   [-1, 64, 16, 16]          --\n",
       "|    |    └─Conv2d: 3-7                  [-1, 64, 16, 16]          36,864\n",
       "|    |    └─BatchNorm2d: 3-8             [-1, 64, 16, 16]          128\n",
       "|    |    └─ReLU: 3-9                    [-1, 64, 16, 16]          --\n",
       "|    |    └─Conv2d: 3-10                 [-1, 64, 16, 16]          36,864\n",
       "|    |    └─BatchNorm2d: 3-11            [-1, 64, 16, 16]          128\n",
       "|    |    └─ReLU: 3-12                   [-1, 64, 16, 16]          --\n",
       "|    └─BasicBlock: 2-3                   [-1, 64, 16, 16]          --\n",
       "|    |    └─Conv2d: 3-13                 [-1, 64, 16, 16]          36,864\n",
       "|    |    └─BatchNorm2d: 3-14            [-1, 64, 16, 16]          128\n",
       "|    |    └─ReLU: 3-15                   [-1, 64, 16, 16]          --\n",
       "|    |    └─Conv2d: 3-16                 [-1, 64, 16, 16]          36,864\n",
       "|    |    └─BatchNorm2d: 3-17            [-1, 64, 16, 16]          128\n",
       "|    |    └─ReLU: 3-18                   [-1, 64, 16, 16]          --\n",
       "├─Sequential: 1-6                        [-1, 128, 8, 8]           --\n",
       "|    └─BasicBlock: 2-4                   [-1, 128, 8, 8]           --\n",
       "|    |    └─Conv2d: 3-19                 [-1, 128, 8, 8]           73,728\n",
       "|    |    └─BatchNorm2d: 3-20            [-1, 128, 8, 8]           256\n",
       "|    |    └─ReLU: 3-21                   [-1, 128, 8, 8]           --\n",
       "|    |    └─Conv2d: 3-22                 [-1, 128, 8, 8]           147,456\n",
       "|    |    └─BatchNorm2d: 3-23            [-1, 128, 8, 8]           256\n",
       "|    |    └─Sequential: 3-24             [-1, 128, 8, 8]           8,448\n",
       "|    |    └─ReLU: 3-25                   [-1, 128, 8, 8]           --\n",
       "|    └─BasicBlock: 2-5                   [-1, 128, 8, 8]           --\n",
       "|    |    └─Conv2d: 3-26                 [-1, 128, 8, 8]           147,456\n",
       "|    |    └─BatchNorm2d: 3-27            [-1, 128, 8, 8]           256\n",
       "|    |    └─ReLU: 3-28                   [-1, 128, 8, 8]           --\n",
       "|    |    └─Conv2d: 3-29                 [-1, 128, 8, 8]           147,456\n",
       "|    |    └─BatchNorm2d: 3-30            [-1, 128, 8, 8]           256\n",
       "|    |    └─ReLU: 3-31                   [-1, 128, 8, 8]           --\n",
       "|    └─BasicBlock: 2-6                   [-1, 128, 8, 8]           --\n",
       "|    |    └─Conv2d: 3-32                 [-1, 128, 8, 8]           147,456\n",
       "|    |    └─BatchNorm2d: 3-33            [-1, 128, 8, 8]           256\n",
       "|    |    └─ReLU: 3-34                   [-1, 128, 8, 8]           --\n",
       "|    |    └─Conv2d: 3-35                 [-1, 128, 8, 8]           147,456\n",
       "|    |    └─BatchNorm2d: 3-36            [-1, 128, 8, 8]           256\n",
       "|    |    └─ReLU: 3-37                   [-1, 128, 8, 8]           --\n",
       "|    └─BasicBlock: 2-7                   [-1, 128, 8, 8]           --\n",
       "|    |    └─Conv2d: 3-38                 [-1, 128, 8, 8]           147,456\n",
       "|    |    └─BatchNorm2d: 3-39            [-1, 128, 8, 8]           256\n",
       "|    |    └─ReLU: 3-40                   [-1, 128, 8, 8]           --\n",
       "|    |    └─Conv2d: 3-41                 [-1, 128, 8, 8]           147,456\n",
       "|    |    └─BatchNorm2d: 3-42            [-1, 128, 8, 8]           256\n",
       "|    |    └─ReLU: 3-43                   [-1, 128, 8, 8]           --\n",
       "├─Sequential: 1-7                        [-1, 256, 4, 4]           --\n",
       "|    └─BasicBlock: 2-8                   [-1, 256, 4, 4]           --\n",
       "|    |    └─Conv2d: 3-44                 [-1, 256, 4, 4]           294,912\n",
       "|    |    └─BatchNorm2d: 3-45            [-1, 256, 4, 4]           512\n",
       "|    |    └─ReLU: 3-46                   [-1, 256, 4, 4]           --\n",
       "|    |    └─Conv2d: 3-47                 [-1, 256, 4, 4]           589,824\n",
       "|    |    └─BatchNorm2d: 3-48            [-1, 256, 4, 4]           512\n",
       "|    |    └─Sequential: 3-49             [-1, 256, 4, 4]           33,280\n",
       "|    |    └─ReLU: 3-50                   [-1, 256, 4, 4]           --\n",
       "|    └─BasicBlock: 2-9                   [-1, 256, 4, 4]           --\n",
       "|    |    └─Conv2d: 3-51                 [-1, 256, 4, 4]           589,824\n",
       "|    |    └─BatchNorm2d: 3-52            [-1, 256, 4, 4]           512\n",
       "|    |    └─ReLU: 3-53                   [-1, 256, 4, 4]           --\n",
       "|    |    └─Conv2d: 3-54                 [-1, 256, 4, 4]           589,824\n",
       "|    |    └─BatchNorm2d: 3-55            [-1, 256, 4, 4]           512\n",
       "|    |    └─ReLU: 3-56                   [-1, 256, 4, 4]           --\n",
       "|    └─BasicBlock: 2-10                  [-1, 256, 4, 4]           --\n",
       "|    |    └─Conv2d: 3-57                 [-1, 256, 4, 4]           589,824\n",
       "|    |    └─BatchNorm2d: 3-58            [-1, 256, 4, 4]           512\n",
       "|    |    └─ReLU: 3-59                   [-1, 256, 4, 4]           --\n",
       "|    |    └─Conv2d: 3-60                 [-1, 256, 4, 4]           589,824\n",
       "|    |    └─BatchNorm2d: 3-61            [-1, 256, 4, 4]           512\n",
       "|    |    └─ReLU: 3-62                   [-1, 256, 4, 4]           --\n",
       "|    └─BasicBlock: 2-11                  [-1, 256, 4, 4]           --\n",
       "|    |    └─Conv2d: 3-63                 [-1, 256, 4, 4]           589,824\n",
       "|    |    └─BatchNorm2d: 3-64            [-1, 256, 4, 4]           512\n",
       "|    |    └─ReLU: 3-65                   [-1, 256, 4, 4]           --\n",
       "|    |    └─Conv2d: 3-66                 [-1, 256, 4, 4]           589,824\n",
       "|    |    └─BatchNorm2d: 3-67            [-1, 256, 4, 4]           512\n",
       "|    |    └─ReLU: 3-68                   [-1, 256, 4, 4]           --\n",
       "|    └─BasicBlock: 2-12                  [-1, 256, 4, 4]           --\n",
       "|    |    └─Conv2d: 3-69                 [-1, 256, 4, 4]           589,824\n",
       "|    |    └─BatchNorm2d: 3-70            [-1, 256, 4, 4]           512\n",
       "|    |    └─ReLU: 3-71                   [-1, 256, 4, 4]           --\n",
       "|    |    └─Conv2d: 3-72                 [-1, 256, 4, 4]           589,824\n",
       "|    |    └─BatchNorm2d: 3-73            [-1, 256, 4, 4]           512\n",
       "|    |    └─ReLU: 3-74                   [-1, 256, 4, 4]           --\n",
       "|    └─BasicBlock: 2-13                  [-1, 256, 4, 4]           --\n",
       "|    |    └─Conv2d: 3-75                 [-1, 256, 4, 4]           589,824\n",
       "|    |    └─BatchNorm2d: 3-76            [-1, 256, 4, 4]           512\n",
       "|    |    └─ReLU: 3-77                   [-1, 256, 4, 4]           --\n",
       "|    |    └─Conv2d: 3-78                 [-1, 256, 4, 4]           589,824\n",
       "|    |    └─BatchNorm2d: 3-79            [-1, 256, 4, 4]           512\n",
       "|    |    └─ReLU: 3-80                   [-1, 256, 4, 4]           --\n",
       "├─Sequential: 1-8                        [-1, 512, 2, 2]           --\n",
       "|    └─BasicBlock: 2-14                  [-1, 512, 2, 2]           --\n",
       "|    |    └─Conv2d: 3-81                 [-1, 512, 2, 2]           1,179,648\n",
       "|    |    └─BatchNorm2d: 3-82            [-1, 512, 2, 2]           1,024\n",
       "|    |    └─ReLU: 3-83                   [-1, 512, 2, 2]           --\n",
       "|    |    └─Conv2d: 3-84                 [-1, 512, 2, 2]           2,359,296\n",
       "|    |    └─BatchNorm2d: 3-85            [-1, 512, 2, 2]           1,024\n",
       "|    |    └─Sequential: 3-86             [-1, 512, 2, 2]           132,096\n",
       "|    |    └─ReLU: 3-87                   [-1, 512, 2, 2]           --\n",
       "|    └─BasicBlock: 2-15                  [-1, 512, 2, 2]           --\n",
       "|    |    └─Conv2d: 3-88                 [-1, 512, 2, 2]           2,359,296\n",
       "|    |    └─BatchNorm2d: 3-89            [-1, 512, 2, 2]           1,024\n",
       "|    |    └─ReLU: 3-90                   [-1, 512, 2, 2]           --\n",
       "|    |    └─Conv2d: 3-91                 [-1, 512, 2, 2]           2,359,296\n",
       "|    |    └─BatchNorm2d: 3-92            [-1, 512, 2, 2]           1,024\n",
       "|    |    └─ReLU: 3-93                   [-1, 512, 2, 2]           --\n",
       "|    └─BasicBlock: 2-16                  [-1, 512, 2, 2]           --\n",
       "|    |    └─Conv2d: 3-94                 [-1, 512, 2, 2]           2,359,296\n",
       "|    |    └─BatchNorm2d: 3-95            [-1, 512, 2, 2]           1,024\n",
       "|    |    └─ReLU: 3-96                   [-1, 512, 2, 2]           --\n",
       "|    |    └─Conv2d: 3-97                 [-1, 512, 2, 2]           2,359,296\n",
       "|    |    └─BatchNorm2d: 3-98            [-1, 512, 2, 2]           1,024\n",
       "|    |    └─ReLU: 3-99                   [-1, 512, 2, 2]           --\n",
       "├─AdaptiveAvgPool2d: 1-9                 [-1, 512, 1, 1]           --\n",
       "├─Linear: 1-10                           [-1, 2]                   1,026\n",
       "==========================================================================================\n",
       "Total params: 21,285,698\n",
       "Trainable params: 21,285,698\n",
       "Non-trainable params: 0\n",
       "Total mult-adds (M): 341.76\n",
       "==========================================================================================\n",
       "Input size (MB): 0.05\n",
       "Forward/backward pass size (MB): 4.66\n",
       "Params size (MB): 81.20\n",
       "Estimated Total Size (MB): 85.90\n",
       "=========================================================================================="
      ]
     },
     "execution_count": 27,
     "metadata": {
      "tags": []
     },
     "output_type": "execute_result"
    }
   ],
   "source": [
    "summary(model, (3,64,64))"
   ]
  },
  {
   "cell_type": "code",
   "execution_count": 28,
   "metadata": {
    "id": "RkngqiOswHy7"
   },
   "outputs": [],
   "source": [
    "START_LR = 1e-7\n",
    "\n",
    "optimizer = optim.Adam(model.parameters(), lr=START_LR)\n",
    "\n",
    "device = torch.device('cuda' if torch.cuda.is_available() else 'cpu')\n",
    "\n",
    "criterion = nn.CrossEntropyLoss()\n",
    "\n",
    "model = model.to(device)\n",
    "criterion = criterion.to(device)"
   ]
  },
  {
   "cell_type": "code",
   "execution_count": 29,
   "metadata": {
    "colab": {
     "base_uri": "https://localhost:8080/"
    },
    "id": "ruByrk5JwXzY",
    "outputId": "ec187cff-d54d-4ab7-9191-29394dede269"
   },
   "outputs": [
    {
     "data": {
      "text/plain": [
       "device(type='cuda')"
      ]
     },
     "execution_count": 29,
     "metadata": {
      "tags": []
     },
     "output_type": "execute_result"
    }
   ],
   "source": [
    "device"
   ]
  },
  {
   "cell_type": "code",
   "execution_count": 30,
   "metadata": {
    "id": "ox0oEtZizRYH"
   },
   "outputs": [],
   "source": [
    "# next(iter(model.last_linear.parameters()))"
   ]
  },
  {
   "cell_type": "code",
   "execution_count": 31,
   "metadata": {
    "id": "rWHRVBLdyyzg"
   },
   "outputs": [],
   "source": [
    "FOUND_LR = 1e-3\n",
    "\n",
    "# params = [\n",
    "#           {'params': model.conv1.parameters(), 'lr': FOUND_LR / 10},\n",
    "#           {'params': model.bn1.parameters(), 'lr': FOUND_LR / 10},\n",
    "#           {'params': model.layer1.parameters(), 'lr': FOUND_LR / 8},\n",
    "#           {'params': model.layer2.parameters(), 'lr': FOUND_LR / 6},\n",
    "#           {'params': model.layer3.parameters(), 'lr': FOUND_LR / 4},\n",
    "#           {'params': model.layer4.parameters(), 'lr': FOUND_LR / 2},\n",
    "#           {'params': model.fc.parameters()}\n",
    "#          ]\n",
    "\n",
    "params = [\n",
    "          {\n",
    "              'params': model.last_linear.parameters()\n",
    "          }\n",
    "]\n",
    "\n",
    "\n",
    "optimizer = optim.Adam(params, lr = FOUND_LR)"
   ]
  },
  {
   "cell_type": "code",
   "execution_count": 32,
   "metadata": {
    "id": "Y6xncxRHyvdU"
   },
   "outputs": [],
   "source": [
    "EPOCHS = 10\n",
    "STEPS_PER_EPOCH = len(train_loader)\n",
    "TOTAL_STEPS = EPOCHS * STEPS_PER_EPOCH\n",
    "\n",
    "MAX_LRS = [p['lr'] for p in optimizer.param_groups]\n",
    "\n",
    "scheduler = lr_scheduler.OneCycleLR(optimizer,\n",
    "                                    max_lr = MAX_LRS,\n",
    "                                    total_steps = TOTAL_STEPS)"
   ]
  },
  {
   "cell_type": "code",
   "execution_count": 33,
   "metadata": {
    "id": "dMwoyU-gxm0h"
   },
   "outputs": [],
   "source": [
    "def calculate_topk_accuracy(y_pred, y, k = 2):\n",
    "    with torch.no_grad():\n",
    "        # y_pred.eq(y.view(1, -1))\n",
    "        batch_size = y.shape[0]\n",
    "        _, top_pred = y_pred.topk(k, 1)\n",
    "        top_pred = top_pred.t()\n",
    "        correct = top_pred.eq(y.view(1, -1).expand_as(top_pred))\n",
    "        correct_1 = correct[:1].reshape(-1).float().sum(0, keepdim = True)\n",
    "        # correct_k = correct[:k].reshape(-1).float().sum(0, keepdim = True)\n",
    "        acc_1 = correct_1 / batch_size\n",
    "        # acc_k = correct_k / batch_size\n",
    "    return acc_1#, acc_k"
   ]
  },
  {
   "cell_type": "code",
   "execution_count": 34,
   "metadata": {
    "id": "iFmcYRJbwY9o"
   },
   "outputs": [],
   "source": [
    "def train(model, iterator, optimizer, criterion, scheduler, device):\n",
    "    \n",
    "    epoch_loss = 0\n",
    "    epoch_acc_1 = 0\n",
    "    # epoch_acc_5 = 0\n",
    "    \n",
    "    model.train()\n",
    "    \n",
    "    for (x, y) in iterator:\n",
    "        y = y%2 # if odd then 1 , if even 0 (binary class)\n",
    "        \n",
    "        x = x.to(device)\n",
    "        y = y.to(device)\n",
    "        \n",
    "        optimizer.zero_grad()\n",
    "        # print(len(model(x)))\n",
    "                \n",
    "        y_pred = model(x)\n",
    "        \n",
    "        loss = criterion(y_pred, y.long())\n",
    "        acc_1 = calculate_topk_accuracy(y_pred, y)\n",
    "        \n",
    "        loss.backward()\n",
    "        \n",
    "        optimizer.step()\n",
    "        \n",
    "        scheduler.step()\n",
    "        \n",
    "        epoch_loss += loss.item()\n",
    "        epoch_acc_1 += acc_1.item()\n",
    "        # epoch_acc_5 += acc_5.item()\n",
    "        \n",
    "    epoch_loss /= len(iterator)\n",
    "    epoch_acc_1 /= len(iterator)\n",
    "    # epoch_acc_5 /= len(iterator)\n",
    "        \n",
    "    return epoch_loss, epoch_acc_1#, epoch_acc_5"
   ]
  },
  {
   "cell_type": "code",
   "execution_count": 38,
   "metadata": {
    "id": "24M-5ifUwqgj"
   },
   "outputs": [],
   "source": [
    "def evaluate(model, iterator, criterion, device):\n",
    "    \n",
    "    epoch_loss = 0\n",
    "    epoch_acc_1 = 0\n",
    "    epoch_acc_5 = 0\n",
    "    \n",
    "    model.eval()\n",
    "    \n",
    "    with torch.no_grad():\n",
    "        \n",
    "        for (x, y) in iterator:\n",
    "            y = y%2 # if odd then 1 , if even 0 (binary class)\n",
    "\n",
    "            x = x.to(device)\n",
    "            y = y.to(device)\n",
    "\n",
    "            y_pred = model(x)\n",
    "\n",
    "            loss = criterion(y_pred, y.long())\n",
    "\n",
    "            acc_1 = calculate_topk_accuracy(y_pred, y)\n",
    "\n",
    "            epoch_loss += loss.item()\n",
    "            epoch_acc_1 += acc_1.item()\n",
    "            # epoch_acc_5 += acc_5.item()\n",
    "        \n",
    "    epoch_loss /= len(iterator)\n",
    "    epoch_acc_1 /= len(iterator)\n",
    "    # epoch_acc_5 /= len(iterator)\n",
    "        \n",
    "    return epoch_loss, epoch_acc_1#, epoch_acc_5"
   ]
  },
  {
   "cell_type": "code",
   "execution_count": 39,
   "metadata": {
    "id": "TLe7Ld4qyF8Q"
   },
   "outputs": [],
   "source": [
    "def epoch_time(start_time, end_time):\n",
    "    elapsed_time = end_time - start_time\n",
    "    elapsed_mins = int(elapsed_time / 60)\n",
    "    elapsed_secs = int(elapsed_time - (elapsed_mins * 60))\n",
    "    return elapsed_mins, elapsed_secs"
   ]
  },
  {
   "cell_type": "code",
   "execution_count": 40,
   "metadata": {
    "colab": {
     "base_uri": "https://localhost:8080/",
     "height": 851
    },
    "id": "saxv9VsGyHDn",
    "outputId": "97f7bc15-3a4e-4a13-d586-968217e3d263"
   },
   "outputs": [
    {
     "name": "stdout",
     "output_type": "stream",
     "text": [
      "Epoch: 01 | Epoch Time: 2m 15s\n",
      "\tTrain Loss: 0.425 | Train Acc @1:  80.95%\n",
      "\tValid Loss: 0.396 | Valid Acc @1:  82.69%\n",
      "Epoch: 02 | Epoch Time: 2m 15s\n",
      "\tTrain Loss: 0.406 | Train Acc @1:  81.91%\n",
      "\tValid Loss: 0.387 | Valid Acc @1:  83.11%\n",
      "Epoch: 03 | Epoch Time: 2m 16s\n",
      "\tTrain Loss: 0.403 | Train Acc @1:  82.23%\n",
      "\tValid Loss: 0.380 | Valid Acc @1:  82.97%\n",
      "Epoch: 04 | Epoch Time: 2m 15s\n",
      "\tTrain Loss: 0.394 | Train Acc @1:  82.74%\n",
      "\tValid Loss: 0.395 | Valid Acc @1:  82.98%\n",
      "Epoch: 05 | Epoch Time: 2m 14s\n",
      "\tTrain Loss: 0.389 | Train Acc @1:  83.01%\n",
      "\tValid Loss: 0.385 | Valid Acc @1:  83.54%\n",
      "Epoch: 06 | Epoch Time: 2m 14s\n",
      "\tTrain Loss: 0.386 | Train Acc @1:  82.85%\n",
      "\tValid Loss: 0.372 | Valid Acc @1:  83.84%\n",
      "Epoch: 07 | Epoch Time: 2m 14s\n",
      "\tTrain Loss: 0.387 | Train Acc @1:  83.07%\n",
      "\tValid Loss: 0.373 | Valid Acc @1:  83.67%\n",
      "Epoch: 08 | Epoch Time: 2m 14s\n",
      "\tTrain Loss: 0.381 | Train Acc @1:  83.46%\n",
      "\tValid Loss: 0.366 | Valid Acc @1:  84.25%\n",
      "Epoch: 09 | Epoch Time: 2m 14s\n",
      "\tTrain Loss: 0.380 | Train Acc @1:  83.49%\n",
      "\tValid Loss: 0.378 | Valid Acc @1:  83.45%\n"
     ]
    },
    {
     "ename": "ValueError",
     "evalue": "ignored",
     "output_type": "error",
     "traceback": [
      "\u001b[0;31m---------------------------------------------------------------------------\u001b[0m",
      "\u001b[0;31mValueError\u001b[0m                                Traceback (most recent call last)",
      "\u001b[0;32m<ipython-input-40-7b49e97956d8>\u001b[0m in \u001b[0;36m<module>\u001b[0;34m()\u001b[0m\n\u001b[1;32m      4\u001b[0m     \u001b[0mstart_time\u001b[0m \u001b[0;34m=\u001b[0m \u001b[0mtime\u001b[0m\u001b[0;34m.\u001b[0m\u001b[0mmonotonic\u001b[0m\u001b[0;34m(\u001b[0m\u001b[0;34m)\u001b[0m\u001b[0;34m\u001b[0m\u001b[0;34m\u001b[0m\u001b[0m\n\u001b[1;32m      5\u001b[0m \u001b[0;34m\u001b[0m\u001b[0m\n\u001b[0;32m----> 6\u001b[0;31m     \u001b[0mtrain_loss\u001b[0m\u001b[0;34m,\u001b[0m \u001b[0mtrain_acc_1\u001b[0m \u001b[0;34m=\u001b[0m \u001b[0mtrain\u001b[0m\u001b[0;34m(\u001b[0m\u001b[0mmodel\u001b[0m\u001b[0;34m,\u001b[0m \u001b[0mtrain_loader\u001b[0m\u001b[0;34m,\u001b[0m \u001b[0moptimizer\u001b[0m\u001b[0;34m,\u001b[0m \u001b[0mcriterion\u001b[0m\u001b[0;34m,\u001b[0m \u001b[0mscheduler\u001b[0m\u001b[0;34m,\u001b[0m \u001b[0mdevice\u001b[0m\u001b[0;34m)\u001b[0m\u001b[0;34m\u001b[0m\u001b[0;34m\u001b[0m\u001b[0m\n\u001b[0m\u001b[1;32m      7\u001b[0m     \u001b[0mvalid_loss\u001b[0m\u001b[0;34m,\u001b[0m \u001b[0mvalid_acc_1\u001b[0m \u001b[0;34m=\u001b[0m \u001b[0mevaluate\u001b[0m\u001b[0;34m(\u001b[0m\u001b[0mmodel\u001b[0m\u001b[0;34m,\u001b[0m \u001b[0mvalid_loader\u001b[0m\u001b[0;34m,\u001b[0m \u001b[0mcriterion\u001b[0m\u001b[0;34m,\u001b[0m \u001b[0mdevice\u001b[0m\u001b[0;34m)\u001b[0m\u001b[0;34m\u001b[0m\u001b[0;34m\u001b[0m\u001b[0m\n\u001b[1;32m      8\u001b[0m \u001b[0;34m\u001b[0m\u001b[0m\n",
      "\u001b[0;32m<ipython-input-34-f17874835d34>\u001b[0m in \u001b[0;36mtrain\u001b[0;34m(model, iterator, optimizer, criterion, scheduler, device)\u001b[0m\n\u001b[1;32m     26\u001b[0m         \u001b[0moptimizer\u001b[0m\u001b[0;34m.\u001b[0m\u001b[0mstep\u001b[0m\u001b[0;34m(\u001b[0m\u001b[0;34m)\u001b[0m\u001b[0;34m\u001b[0m\u001b[0;34m\u001b[0m\u001b[0m\n\u001b[1;32m     27\u001b[0m \u001b[0;34m\u001b[0m\u001b[0m\n\u001b[0;32m---> 28\u001b[0;31m         \u001b[0mscheduler\u001b[0m\u001b[0;34m.\u001b[0m\u001b[0mstep\u001b[0m\u001b[0;34m(\u001b[0m\u001b[0;34m)\u001b[0m\u001b[0;34m\u001b[0m\u001b[0;34m\u001b[0m\u001b[0m\n\u001b[0m\u001b[1;32m     29\u001b[0m \u001b[0;34m\u001b[0m\u001b[0m\n\u001b[1;32m     30\u001b[0m         \u001b[0mepoch_loss\u001b[0m \u001b[0;34m+=\u001b[0m \u001b[0mloss\u001b[0m\u001b[0;34m.\u001b[0m\u001b[0mitem\u001b[0m\u001b[0;34m(\u001b[0m\u001b[0;34m)\u001b[0m\u001b[0;34m\u001b[0m\u001b[0;34m\u001b[0m\u001b[0m\n",
      "\u001b[0;32m/usr/local/lib/python3.7/dist-packages/torch/optim/lr_scheduler.py\u001b[0m in \u001b[0;36mstep\u001b[0;34m(self, epoch)\u001b[0m\n\u001b[1;32m    150\u001b[0m             \u001b[0;32mif\u001b[0m \u001b[0mepoch\u001b[0m \u001b[0;32mis\u001b[0m \u001b[0;32mNone\u001b[0m\u001b[0;34m:\u001b[0m\u001b[0;34m\u001b[0m\u001b[0;34m\u001b[0m\u001b[0m\n\u001b[1;32m    151\u001b[0m                 \u001b[0mself\u001b[0m\u001b[0;34m.\u001b[0m\u001b[0mlast_epoch\u001b[0m \u001b[0;34m+=\u001b[0m \u001b[0;36m1\u001b[0m\u001b[0;34m\u001b[0m\u001b[0;34m\u001b[0m\u001b[0m\n\u001b[0;32m--> 152\u001b[0;31m                 \u001b[0mvalues\u001b[0m \u001b[0;34m=\u001b[0m \u001b[0mself\u001b[0m\u001b[0;34m.\u001b[0m\u001b[0mget_lr\u001b[0m\u001b[0;34m(\u001b[0m\u001b[0;34m)\u001b[0m\u001b[0;34m\u001b[0m\u001b[0;34m\u001b[0m\u001b[0m\n\u001b[0m\u001b[1;32m    153\u001b[0m             \u001b[0;32melse\u001b[0m\u001b[0;34m:\u001b[0m\u001b[0;34m\u001b[0m\u001b[0;34m\u001b[0m\u001b[0m\n\u001b[1;32m    154\u001b[0m                 \u001b[0mwarnings\u001b[0m\u001b[0;34m.\u001b[0m\u001b[0mwarn\u001b[0m\u001b[0;34m(\u001b[0m\u001b[0mEPOCH_DEPRECATION_WARNING\u001b[0m\u001b[0;34m,\u001b[0m \u001b[0mUserWarning\u001b[0m\u001b[0;34m)\u001b[0m\u001b[0;34m\u001b[0m\u001b[0;34m\u001b[0m\u001b[0m\n",
      "\u001b[0;32m/usr/local/lib/python3.7/dist-packages/torch/optim/lr_scheduler.py\u001b[0m in \u001b[0;36mget_lr\u001b[0;34m(self)\u001b[0m\n\u001b[1;32m   1295\u001b[0m         \u001b[0;32mif\u001b[0m \u001b[0mstep_num\u001b[0m \u001b[0;34m>\u001b[0m \u001b[0mself\u001b[0m\u001b[0;34m.\u001b[0m\u001b[0mtotal_steps\u001b[0m\u001b[0;34m:\u001b[0m\u001b[0;34m\u001b[0m\u001b[0;34m\u001b[0m\u001b[0m\n\u001b[1;32m   1296\u001b[0m             raise ValueError(\"Tried to step {} times. The specified number of total steps is {}\"\n\u001b[0;32m-> 1297\u001b[0;31m                              .format(step_num + 1, self.total_steps))\n\u001b[0m\u001b[1;32m   1298\u001b[0m \u001b[0;34m\u001b[0m\u001b[0m\n\u001b[1;32m   1299\u001b[0m         \u001b[0;32mfor\u001b[0m \u001b[0mgroup\u001b[0m \u001b[0;32min\u001b[0m \u001b[0mself\u001b[0m\u001b[0;34m.\u001b[0m\u001b[0moptimizer\u001b[0m\u001b[0;34m.\u001b[0m\u001b[0mparam_groups\u001b[0m\u001b[0;34m:\u001b[0m\u001b[0;34m\u001b[0m\u001b[0;34m\u001b[0m\u001b[0m\n",
      "\u001b[0;31mValueError\u001b[0m: Tried to step 7502 times. The specified number of total steps is 7500"
     ]
    }
   ],
   "source": [
    "best_valid_loss = float('inf')\n",
    "for epoch in range(EPOCHS):\n",
    "    \n",
    "    start_time = time.monotonic()\n",
    "    \n",
    "    train_loss, train_acc_1 = train(model, train_loader, optimizer, criterion, scheduler, device)\n",
    "    valid_loss, valid_acc_1 = evaluate(model, valid_loader, criterion, device)\n",
    "        \n",
    "    if valid_loss < best_valid_loss:\n",
    "        best_valid_loss = valid_loss\n",
    "        torch.save(model.state_dict(), 'best_model.pt')\n",
    "\n",
    "    end_time = time.monotonic()\n",
    "\n",
    "    epoch_mins, epoch_secs = epoch_time(start_time, end_time)\n",
    "    \n",
    "    print(f'Epoch: {epoch+1:02} | Epoch Time: {epoch_mins}m {epoch_secs}s')\n",
    "    print(f'\\tTrain Loss: {train_loss:.3f} | Train Acc @1: {train_acc_1*100:6.2f}%')\n",
    "    # | ' \\\n",
    "          # f'Train Acc @5: {train_acc_5*100:6.2f}%')\n",
    "    print(f'\\tValid Loss: {valid_loss:.3f} | Valid Acc @1: {valid_acc_1*100:6.2f}%')\n",
    "    # | ' \\\n",
    "          # f'Valid Acc @5: {valid_acc_5*100:6.2f}%')"
   ]
  },
  {
   "cell_type": "code",
   "execution_count": 1,
   "metadata": {
    "id": "TUCg3_2iylRL"
   },
   "outputs": [],
   "source": [
    "def get_predictions(model, iterator):\n",
    "\n",
    "    model.eval()\n",
    "\n",
    "    images = []\n",
    "    labels = []\n",
    "    probs = []\n",
    "\n",
    "    with torch.no_grad():\n",
    "\n",
    "        for (x, y) in iterator:\n",
    "\n",
    "            x = x.to(device)\n",
    "\n",
    "            y_pred = model(x)\n",
    "\n",
    "            y_prob = F.softmax(y_pred, dim = -1)\n",
    "            top_pred = y_prob.argmax(1, keepdim = True)\n",
    "\n",
    "            images.append(x.cpu())\n",
    "            labels.append(y.cpu())\n",
    "            probs.append(y_prob.cpu())\n",
    "\n",
    "    images = torch.cat(images, dim = 0)\n",
    "    labels = torch.cat(labels, dim = 0)\n",
    "    probs = torch.cat(probs, dim = 0)\n",
    "\n",
    "    return images, labels, probs"
   ]
  },
  {
   "cell_type": "code",
   "execution_count": 2,
   "metadata": {
    "colab": {
     "base_uri": "https://localhost:8080/",
     "height": 167
    },
    "id": "HfP2UZt2HAvm",
    "outputId": "511a7d29-6088-4d35-da58-7e921675e12c"
   },
   "outputs": [
    {
     "ename": "NameError",
     "evalue": "ignored",
     "output_type": "error",
     "traceback": [
      "\u001b[0;31m---------------------------------------------------------------------------\u001b[0m",
      "\u001b[0;31mNameError\u001b[0m                                 Traceback (most recent call last)",
      "\u001b[0;32m<ipython-input-2-5d0759ffe23f>\u001b[0m in \u001b[0;36m<module>\u001b[0;34m()\u001b[0m\n\u001b[0;32m----> 1\u001b[0;31m \u001b[0mimages\u001b[0m\u001b[0;34m,\u001b[0m \u001b[0mlabels\u001b[0m\u001b[0;34m,\u001b[0m \u001b[0mprobs\u001b[0m \u001b[0;34m=\u001b[0m \u001b[0mget_predictions\u001b[0m\u001b[0;34m(\u001b[0m\u001b[0mmodel\u001b[0m\u001b[0;34m,\u001b[0m \u001b[0mvalid_loader\u001b[0m\u001b[0;34m)\u001b[0m\u001b[0;34m\u001b[0m\u001b[0;34m\u001b[0m\u001b[0m\n\u001b[0m",
      "\u001b[0;31mNameError\u001b[0m: name 'model' is not defined"
     ]
    }
   ],
   "source": [
    "images, labels, probs = get_predictions(model, valid_loader)"
   ]
  },
  {
   "cell_type": "code",
   "execution_count": null,
   "metadata": {
    "id": "P2EIIKUqHESe"
   },
   "outputs": [],
   "source": [
    "pred_labels = torch.argmax(probs, 1)"
   ]
  },
  {
   "cell_type": "code",
   "execution_count": null,
   "metadata": {
    "id": "Pc9Hig5fHMXv"
   },
   "outputs": [],
   "source": [
    "def plot_confusion_matrix(labels, pred_labels, classes):\n",
    "    \n",
    "    fig = plt.figure(figsize = (20, 20));\n",
    "    ax = fig.add_subplot(1, 1, 1);\n",
    "    cm = confusion_matrix(labels, pred_labels);\n",
    "    cm = ConfusionMatrixDisplay(cm, display_labels = classes);\n",
    "    cm.plot(values_format = 'd', cmap = 'Blues', ax = ax)\n",
    "    fig.delaxes(fig.axes[1]) #delete colorbar\n",
    "    plt.xticks(rotation = 90)\n",
    "    plt.xlabel('Predicted Label', fontsize = 50)\n",
    "    plt.ylabel('True Label', fontsize = 50)"
   ]
  },
  {
   "cell_type": "code",
   "execution_count": null,
   "metadata": {
    "id": "kYDhhHg6HMat"
   },
   "outputs": [],
   "source": [
    "plot_confusion_matrix(labels, pred_labels, classes)"
   ]
  },
  {
   "cell_type": "markdown",
   "metadata": {
    "id": "KL59qKc1HUgg"
   },
   "source": [
    "### Misclassified Examples"
   ]
  },
  {
   "cell_type": "code",
   "execution_count": null,
   "metadata": {
    "id": "ex0x5PY-HMda"
   },
   "outputs": [],
   "source": [
    "corrects = torch.eq(labels, pred_labels)"
   ]
  },
  {
   "cell_type": "code",
   "execution_count": null,
   "metadata": {
    "id": "mCYwHpD9HMgk"
   },
   "outputs": [],
   "source": [
    "incorrect_examples = []\n",
    "\n",
    "for image, label, prob, correct in zip(images, labels, probs, corrects):\n",
    "    if not correct:\n",
    "        incorrect_examples.append((image, label, prob))\n",
    "\n",
    "incorrect_examples.sort(reverse = True, key = lambda x: torch.max(x[2], dim = 0).values)"
   ]
  },
  {
   "cell_type": "code",
   "execution_count": null,
   "metadata": {
    "id": "pYhOaRnRHMl6"
   },
   "outputs": [],
   "source": [
    "def plot_most_incorrect(incorrect, classes, n_images, normalize = True):\n",
    "\n",
    "    rows = int(np.sqrt(n_images))\n",
    "    cols = int(np.sqrt(n_images))\n",
    "\n",
    "    fig = plt.figure(figsize = (25, 20))\n",
    "\n",
    "    for i in range(rows*cols):\n",
    "\n",
    "        ax = fig.add_subplot(rows, cols, i+1)\n",
    "        \n",
    "        image, true_label, probs = incorrect[i]\n",
    "        image = image.permute(1, 2, 0)\n",
    "        true_prob = probs[int(true_label.cpu().numpy())]\n",
    "        incorrect_prob, incorrect_label = torch.max(probs, dim = 0)\n",
    "        true_class = classes[int(true_label.cpu().numpy())]\n",
    "        incorrect_class = classes[incorrect_label]\n",
    "\n",
    "        if normalize:\n",
    "            image = normalize_image(image)\n",
    "\n",
    "        ax.imshow(image.cpu().numpy())\n",
    "        ax.set_title(f'true label: {true_class} ({true_prob:.3f})\\n' \\\n",
    "                     f'pred label: {incorrect_class} ({incorrect_prob:.3f})')\n",
    "        ax.axis('off')\n",
    "        \n",
    "    fig.subplots_adjust(hspace=0.4)"
   ]
  },
  {
   "cell_type": "code",
   "execution_count": null,
   "metadata": {
    "id": "nYJJciylHenb"
   },
   "outputs": [],
   "source": [
    "N_IMAGES = 50\n",
    "\n",
    "plot_most_incorrect(incorrect_examples, classes, N_IMAGES)"
   ]
  },
  {
   "cell_type": "markdown",
   "metadata": {
    "id": "-vurAwOxH6xD"
   },
   "source": [
    "## Predictions on Test Data"
   ]
  },
  {
   "cell_type": "code",
   "execution_count": null,
   "metadata": {
    "id": "76RLzJyCHerx"
   },
   "outputs": [],
   "source": [
    "def get_representations(model, iterator):\n",
    "\n",
    "    model.eval()\n",
    "\n",
    "    outputs = []\n",
    "    intermediates = []\n",
    "    labels = []\n",
    "\n",
    "    with torch.no_grad():\n",
    "        \n",
    "        for (x) in iterator:\n",
    "\n",
    "            x = x.to(device)\n",
    "\n",
    "            y_pred = model(x)\n",
    "\n",
    "            outputs.append(y_pred.cpu())\n",
    "        \n",
    "    outputs = torch.cat(outputs, dim = 0)\n",
    "\n",
    "    return outputs"
   ]
  },
  {
   "cell_type": "code",
   "execution_count": null,
   "metadata": {
    "id": "rqiChLr9HlRV"
   },
   "outputs": [],
   "source": [
    "outputs = get_representations(model, test_loader)"
   ]
  },
  {
   "cell_type": "code",
   "execution_count": null,
   "metadata": {
    "id": "4GiKmYVSHmB0"
   },
   "outputs": [],
   "source": [
    "pred_test = [int(pr.numpy()) for pr in outputs.argmax(1)] # 0 for even, 1 for odd"
   ]
  },
  {
   "cell_type": "markdown",
   "metadata": {
    "id": "RwiwkmqLHzPu"
   },
   "source": [
    "I have lost my session and running again will take atleast 15 minute so skipping to run."
   ]
  },
  {
   "cell_type": "code",
   "execution_count": null,
   "metadata": {
    "id": "x9KsFwoYHmFN"
   },
   "outputs": [],
   "source": []
  }
 ],
 "metadata": {
  "accelerator": "GPU",
  "colab": {
   "collapsed_sections": [],
   "name": "Mnist_odd_even_classifier.ipynb",
   "provenance": []
  },
  "kernelspec": {
   "display_name": "Python 3",
   "language": "python",
   "name": "python3"
  },
  "language_info": {
   "codemirror_mode": {
    "name": "ipython",
    "version": 3
   },
   "file_extension": ".py",
   "mimetype": "text/x-python",
   "name": "python",
   "nbconvert_exporter": "python",
   "pygments_lexer": "ipython3",
   "version": "3.8.5"
  }
 },
 "nbformat": 4,
 "nbformat_minor": 1
}
